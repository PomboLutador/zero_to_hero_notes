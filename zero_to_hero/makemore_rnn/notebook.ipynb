{
 "cells": [
  {
   "cell_type": "code",
   "execution_count": 31,
   "metadata": {},
   "outputs": [],
   "source": [
    "import torch\n",
    "import torch.nn.functional as F\n",
    "import matplotlib.pyplot as plt\n",
    "import random\n",
    "from model import NGramModel\n",
    "\n",
    "%matplotlib inline\n",
    "\n",
    "N_EMB = 10\n",
    "N_HIDDEN = 200\n",
    "BLOCK_SIZE = 3  # the n in n-gram\n",
    "VOCAB_SIZE = 27  # num letters in alphabet + spec. char.\n",
    "NUM_ITERATIONS = 200000\n",
    "BATCH_SIZE = 32"
   ]
  },
  {
   "cell_type": "markdown",
   "metadata": {},
   "source": [
    "# MLP Neural Network for 3-gram prediction\n",
    "- Based on https://www.jmlr.org/papers/volume3/bengio03a/bengio03a.pdf\n",
    "\n",
    "## Lessons learned\n",
    "### Layer initialization for logit output\n",
    "There are worse and better ways to initialize a neural network. In the case of this model where the final output layer is mapping from the hidden layer to the output (which is the 26+1 characters of the alphabet) the model should a priori not have any preference for which character it predicts, given a certain n-gram.\n",
    "\n",
    "Note that the final layer in this model predicts logits, i.e. not probabilities but rather \n",
    "$$\\text{logit}(p) = \\ln \\frac{p}{1 - p}$$\n",
    "where $p$ is the probability, given a logit. This means to arrive at probabilities we need to exponentiate and normalize:\n",
    "$$p = \\frac{e^{\\text{logit}(p)}}{1 + e^{\\text{logit}(p)}}$$\n",
    "If the weights in the output layer are initialized randomly with large (depending on the exact context) numbers, then small deviations can lead to massive differences in the probabilities since exponentiating with exponent 2 or 8 (for example) makes a huge difference. \n",
    "\n",
    "An ad hoc solution to this is to simply scale the initial model weights by some factor smaller than 1 and calculate the model loss after one forward pass to see whether the loss has noticeably reduced.\n",
    "\n",
    "When done right, this removes the 'hockey stick' nature of the plot of the training loss which occurs when the model first has to 'battle' the bad initialization.\n",
    "\n",
    "### Dead neurons due to tanh\n",
    "(See a plot of $\\tanh(x)$ below)\n",
    "\n",
    "Whenever we have a non-linear layer (such as the hidden layer in this model) with a tanh nonlinearity (and also other ones) we can run into the problem of dead neurons.\n",
    "\n",
    "Remember that the derivative of the tanh is as follows:\n",
    "\n",
    "$$\\frac{d \\tanh(x)}{d x} = 1 - \\tanh(x)^2$$\n",
    "\n",
    "Note that if $tanh(x)$ is either 1 or -1, the derivative will be zero (as can be seen in the plot below by the tails of the tanh flattening out towards plus and minus infinity).\n",
    "\n",
    "Remember also that during backpropagation the gradient that is passed on is the incoming gradient times the local gradient. This means if the weights of the tanh layer are initialized in such a way so as to produce values close to 1 or -1 for a whole neuron, it will never learn as its gradient will always be zero. \n",
    "\n",
    "An ad hoc solution again is to simply squash the layer weights until the histogram of the output after the first training iteration shows that the vast majority of outputs is far away from -1 and 1."
   ]
  },
  {
   "cell_type": "code",
   "execution_count": 50,
   "metadata": {},
   "outputs": [
    {
     "data": {
      "text/plain": [
       "<matplotlib.legend.Legend at 0x7f6eb8bd2460>"
      ]
     },
     "execution_count": 50,
     "metadata": {},
     "output_type": "execute_result"
    },
    {
     "data": {
      "image/png": "[encoded data removed]",
      "text/plain": [
       "<Figure size 300x200 with 1 Axes>"
      ]
     },
     "metadata": {},
     "output_type": "display_data"
    }
   ],
   "source": [
    "plt.figure(figsize=(3, 2))\n",
    "x_min, x_max, step_size = -3, 3, 0.01\n",
    "x = torch.arange(x_min, x_max, step=step_size).tolist()\n",
    "tanh_of_x = torch.arange(x_min, x_max, step=step_size).tanh().tolist()\n",
    "plt.plot(x, tanh_of_x, label=\"tanh(x)\")\n",
    "plt.legend()"
   ]
  },
  {
   "cell_type": "markdown",
   "metadata": {},
   "source": [
    "### Systematic ways of picking useful initialization\n",
    "- https://pytorch.org/docs/stable/nn.init.html (Kaiming)\n",
    "- https://arxiv.org/abs/1502.01852"
   ]
  },
  {
   "cell_type": "code",
   "execution_count": 2,
   "metadata": {},
   "outputs": [
    {
     "data": {
      "text/plain": [
       "['emma', 'olivia', 'ava', 'isabella', 'sophia', 'charlotte', 'mia', 'amelia']"
      ]
     },
     "execution_count": 2,
     "metadata": {},
     "output_type": "execute_result"
    }
   ],
   "source": [
    "words = open(\"names.txt\", \"r\").read().splitlines()\n",
    "words[:8]"
   ]
  },
  {
   "cell_type": "code",
   "execution_count": 3,
   "metadata": {},
   "outputs": [
    {
     "name": "stdout",
     "output_type": "stream",
     "text": [
      "{1: 'a', 2: 'b', 3: 'c', 4: 'd', 5: 'e', 6: 'f', 7: 'g', 8: 'h', 9: 'i', 10: 'j', 11: 'k', 12: 'l', 13: 'm', 14: 'n', 15: 'o', 16: 'p', 17: 'q', 18: 'r', 19: 's', 20: 't', 21: 'u', 22: 'v', 23: 'w', 24: 'x', 25: 'y', 26: 'z', 0: '.'}\n"
     ]
    }
   ],
   "source": [
    "chars = sorted(list(set(\"\".join(words))))\n",
    "# s to i maps characters to the index in the N tensor below\n",
    "s_to_i = {s: i + 1 for i, s in enumerate(chars)}\n",
    "s_to_i[\".\"] = 0\n",
    "i_to_s = {i: s for s, i in s_to_i.items()}  # invert s to i mapping\n",
    "print(i_to_s)"
   ]
  },
  {
   "cell_type": "code",
   "execution_count": 4,
   "metadata": {},
   "outputs": [
    {
     "name": "stdout",
     "output_type": "stream",
     "text": [
      "torch.Size([182625, 3]) torch.Size([182625])\n",
      "torch.Size([22655, 3]) torch.Size([22655])\n",
      "torch.Size([22866, 3]) torch.Size([22866])\n"
     ]
    }
   ],
   "source": [
    "# create training set of all bigrams\n",
    "def build_dataset(words):\n",
    "    X, Y = [], []\n",
    "    for w in words:\n",
    "        context = [0] * BLOCK_SIZE\n",
    "        for ch in w + \".\":\n",
    "            ix = s_to_i[ch]\n",
    "            X.append(context)\n",
    "            Y.append(ix)\n",
    "            context = context[1:] + [ix]\n",
    "    X = torch.tensor(X)\n",
    "    Y = torch.tensor(Y)\n",
    "    print(X.shape, Y.shape)\n",
    "    return X, Y\n",
    "\n",
    "\n",
    "random.seed(42)\n",
    "random.shuffle(words)\n",
    "n1 = int(0.8 * len(words))\n",
    "n2 = int(0.9 * len(words))\n",
    "\n",
    "Xtr, Ytr = build_dataset(words[:n1])\n",
    "Xval, Yval = build_dataset(words[n1:n2])\n",
    "Xte, Yte = build_dataset(words[n2:])"
   ]
  },
  {
   "cell_type": "code",
   "execution_count": 5,
   "metadata": {},
   "outputs": [
    {
     "name": "stdout",
     "output_type": "stream",
     "text": [
      "Total number of parameters: 11897\n"
     ]
    }
   ],
   "source": [
    "model = NGramModel(\n",
    "    n_gram_size=BLOCK_SIZE,\n",
    "    vocab_size=VOCAB_SIZE,\n",
    "    embedding_size=N_EMB,\n",
    "    hidden_layer_size=N_HIDDEN,\n",
    ")"
   ]
  },
  {
   "cell_type": "code",
   "execution_count": 28,
   "metadata": {},
   "outputs": [
    {
     "name": "stdout",
     "output_type": "stream",
     "text": [
      "Iteration 700000 loss: 1.9938\n",
      "Iteration 710000 loss: 1.9424\n",
      "Iteration 720000 loss: 2.0986\n",
      "Iteration 730000 loss: 2.0903\n",
      "Iteration 740000 loss: 1.9961\n",
      "Iteration 750000 loss: 1.9599\n",
      "Iteration 760000 loss: 1.9946\n",
      "Iteration 770000 loss: 2.0680\n",
      "Iteration 780000 loss: 1.9055\n",
      "Iteration 790000 loss: 1.9318\n",
      "Loss on the final iteration: 1.9998\n",
      "Validation loss on the final iteration: 2.0982\n"
     ]
    }
   ],
   "source": [
    "model.train(\n",
    "    X_training=Xtr,\n",
    "    Y_training=Ytr,\n",
    "    X_validation=Xval,\n",
    "    Y_validation=Yval,\n",
    "    num_iterations=100000,\n",
    "    learning_rate=0.01,\n",
    "    batch_size=512,\n",
    ")"
   ]
  },
  {
   "cell_type": "code",
   "execution_count": 29,
   "metadata": {},
   "outputs": [
    {
     "data": {
      "text/plain": [
       "<matplotlib.legend.Legend at 0x7f6ec21f6940>"
      ]
     },
     "execution_count": 29,
     "metadata": {},
     "output_type": "execute_result"
    },
    {
     "data": {
      "image/png": "[encoded data removed]",
      "text/plain": [
       "<Figure size 640x480 with 1 Axes>"
      ]
     },
     "metadata": {},
     "output_type": "display_data"
    }
   ],
   "source": [
    "plt.plot(model.iterations, model.losses, label=\"Training set loss\")\n",
    "plt.plot(\n",
    "    model.validation_iterations, model.validation_losses, label=\"Validation set loss\"\n",
    ")\n",
    "plt.legend()"
   ]
  },
  {
   "cell_type": "code",
   "execution_count": 30,
   "metadata": {},
   "outputs": [
    {
     "name": "stdout",
     "output_type": "stream",
     "text": [
      "cybianahili.\n",
      "hyne.\n",
      "daily.\n",
      "aadie.\n",
      "taimeryk.\n",
      "audiel.\n",
      "lilani.\n",
      "tahmor.\n",
      "marbar.\n",
      "liannie.\n",
      "arni.\n",
      "sanibara.\n",
      "hendancy.\n",
      "evaanisha.\n",
      "mohana.\n",
      "ifer.\n",
      "abvaliyah.\n",
      "ana.\n",
      "gustiannahedu.\n",
      "jaguardonon.\n"
     ]
    }
   ],
   "source": [
    "g = torch.Generator()  # .manual_seed(2147483647 + 10)\n",
    "for _ in range(20):\n",
    "    out = []\n",
    "    context = [0] * BLOCK_SIZE\n",
    "    while True:\n",
    "        logits = model.get_logits(torch.tensor([context]))\n",
    "        probs = F.softmax(logits, dim=1)\n",
    "        ix = torch.multinomial(probs, num_samples=1, generator=g).item()\n",
    "        context = context[1:] + [ix]\n",
    "        out.append(ix)\n",
    "        if ix == 0:\n",
    "            break\n",
    "    print(\"\".join(i_to_s[i] for i in out))"
   ]
  }
 ],
 "metadata": {
  "kernelspec": {
   "display_name": "env",
   "language": "python",
   "name": "python3"
  },
  "language_info": {
   "codemirror_mode": {
    "name": "ipython",
    "version": 3
   },
   "file_extension": ".py",
   "mimetype": "text/x-python",
   "name": "python",
   "nbconvert_exporter": "python",
   "pygments_lexer": "ipython3",
   "version": "3.8.10"
  },
  "orig_nbformat": 4
 },
 "nbformat": 4,
 "nbformat_minor": 2
}
